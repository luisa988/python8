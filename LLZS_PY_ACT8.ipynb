{
  "nbformat": 4,
  "nbformat_minor": 0,
  "metadata": {
    "colab": {
      "provenance": [],
      "authorship_tag": "ABX9TyMgRwEw6VZGFRkCygoIUWpj",
      "include_colab_link": true
    },
    "kernelspec": {
      "name": "python3",
      "display_name": "Python 3"
    },
    "language_info": {
      "name": "python"
    }
  },
  "cells": [
    {
      "cell_type": "markdown",
      "metadata": {
        "id": "view-in-github",
        "colab_type": "text"
      },
      "source": [
        "<a href=\"https://colab.research.google.com/github/luisa988/python8/blob/main/LLZS_PY_ACT8.ipynb\" target=\"_parent\"><img src=\"https://colab.research.google.com/assets/colab-badge.svg\" alt=\"Open In Colab\"/></a>"
      ]
    },
    {
      "cell_type": "markdown",
      "source": [
        "Nombre: Luisa Zerega.\n",
        "\n",
        "Materia: Python.\n",
        "\n",
        "Actividad 8: LISTAS, RANGE, RANDOM.\n",
        "\n",
        "Matricula: 356491.\n",
        "\n",
        "Descripcion:\n",
        "\n",
        "1.- Programa en python que genere un número entre el 1 y 10 (no visible)  preguntarle al usuario que número cree que generó la computadora, el usuario tendrá 3 oportunidades de adivinar.\n",
        "\n",
        "Decir si adivino o si falló en sus 3 intentos.\n",
        "\n",
        "NOTA: 100% VALIDADO (usar función para validar números)\n",
        "NOTA2: El usuario podrá jugar cuantas veces lo desee, al final del juego desplegar cantidad de ganados y perdidos\n"
      ],
      "metadata": {
        "id": "_EiqhmGJUXDk"
      }
    },
    {
      "cell_type": "code",
      "execution_count": null,
      "metadata": {
        "id": "TnCecj9sURbL",
        "colab": {
          "base_uri": "https://localhost:8080/"
        },
        "outputId": "ebcbba8d-48c0-4067-92b8-6e579f0f8096"
      },
      "outputs": [
        {
          "output_type": "stream",
          "name": "stdout",
          "text": [
            "Adivina el número generado por la computadora (entre 1 y 10):\n",
            "2\n",
            "¡Felicidades! Adivinaste el número.\n",
            "¿Deseas jugar de nuevo? (s/n)\n",
            "n\n",
            "Cantidad de juegos ganados: 1\n",
            "Cantidad de juegos perdidos: 0\n"
          ]
        }
      ],
      "source": [
        "import random\n",
        "\n",
        "def validar_numero(numero):\n",
        "    if numero.isdigit() and 1 <= int(numero) <= 10:\n",
        "        return True\n",
        "    else:\n",
        "        return False\n",
        "\n",
        "def jugar():\n",
        "    numero_generado = random.randint(1, 10)\n",
        "    intentos = 3\n",
        "    ganados = 0\n",
        "    perdidos = 0\n",
        "\n",
        "    while True:\n",
        "        print(\"Adivina el número generado por la computadora (entre 1 y 10):\")\n",
        "        numero_usuario = input()\n",
        "\n",
        "        if not validar_numero(numero_usuario):\n",
        "            print(\"Ingresa un número válido entre 1 y 10.\")\n",
        "            continue\n",
        "\n",
        "        intentos -= 1\n",
        "        numero_usuario = int(numero_usuario)\n",
        "\n",
        "        if numero_usuario == numero_generado:\n",
        "            print(\"¡Felicidades! Adivinaste el número.\")\n",
        "            ganados += 1\n",
        "        else:\n",
        "            print(\"Fallaste. El número generado era:\", numero_generado)\n",
        "\n",
        "        if intentos == 0:\n",
        "            print(\"Has agotado tus intentos.\")\n",
        "            perdidos += 1\n",
        "\n",
        "        print(\"¿Deseas jugar de nuevo? (s/n)\")\n",
        "        respuesta = input()\n",
        "\n",
        "        if respuesta.lower() != \"s\":\n",
        "            break\n",
        "\n",
        "    print(\"Cantidad de juegos ganados:\", ganados)\n",
        "    print(\"Cantidad de juegos perdidos:\", perdidos)\n",
        "\n",
        "jugar()\n"
      ]
    },
    {
      "cell_type": "markdown",
      "source": [
        "2.- El juego Busca Número muestra una lista de 10 numeros, sin mostrar su contenido,\n",
        "\n",
        "Al usuario se le muestra un número que se generó aleatoriamente y el usuario tendrá 3 intentos de adivinar en qué índice del arreglo se encuentra.\n",
        "El usuario recibirá un mensaje que diga GANASTE, PERDISTE, TIENES UN NUEVO INTENTO\n",
        "\n",
        "El usuario podrá jugar cuantas veces lo desee.\n",
        "NOTA: La lista se deberá llenar con números aleatorios del 1 al 10 no repetidos.\n",
        "(Hacer una función que regrese la lista con los 10 números sin repetir)\n",
        "\n",
        "NOTA: REALIZA 3 VERSIONES DIFERENTES DEL LLENADO DE LA LISTA ALEATORIA\n",
        "VERSIÓN A) Usar ciclos para validar los repetidos, y sólo random para generar los números dentro del rango\n",
        "\n",
        "VERSIÓN B) Usa funciones de la librería Random para llenar la lista COn los número sin repetir\n",
        "\n",
        "VERSIÓN C) Usa funciones de la librería Random para llenar la lista con los número sin repetir"
      ],
      "metadata": {
        "id": "wIWcNonittaU"
      }
    },
    {
      "cell_type": "code",
      "source": [
        "import random\n",
        "\n",
        "def generar_lista():\n",
        "    lista = []\n",
        "    numeros_disponibles = list(range(1, 11))\n",
        "\n",
        "    while len(lista) < 10:\n",
        "        numero = random.randint(1, 10)\n",
        "        if numero not in lista:\n",
        "            lista.append(numero)\n",
        "\n",
        "    return lista\n",
        "\n",
        "def jugar():\n",
        "    ganados = 0\n",
        "    perdidos = 0\n",
        "\n",
        "    while True:\n",
        "        lista = generar_lista()\n",
        "        numero_generado = random.choice(lista)\n",
        "        intentos = 3\n",
        "\n",
        "        print(\"EL NÚMERO\", numero_generado, \"SE ENCUENTRA EN EL ÍNDICE ?\")\n",
        "\n",
        "        while intentos > 0:\n",
        "            print(\"Intento\", 4 - intentos)\n",
        "            indice_usuario = int(input(\"Ingresa el índice: \"))\n",
        "\n",
        "            if indice_usuario < 0 or indice_usuario >= len(lista):\n",
        "                print(\"Índice inválido. Intenta nuevamente.\")\n",
        "                continue\n",
        "\n",
        "            if lista[indice_usuario] == numero_generado:\n",
        "                print(\"¡GANASTE!\")\n",
        "                ganados += 1\n",
        "                break\n",
        "            else:\n",
        "                intentos -= 1\n",
        "                if intentos > 0:\n",
        "                    print(\"Incorrecto. Tienes\", intentos, \"intentos restantes.\")\n",
        "\n",
        "        if intentos == 0:\n",
        "            print(\"PERDISTE. El número\", numero_generado, \"se encontraba en el índice\", lista.index(numero_generado))\n",
        "\n",
        "        print(\"¿Deseas jugar de nuevo? (s/n)\")\n",
        "        respuesta = input()\n",
        "\n",
        "        if respuesta.lower() != \"s\":\n",
        "            break\n",
        "\n",
        "    print(\"Cantidad de juegos ganados:\", ganados)\n",
        "    print(\"Cantidad de juegos perdidos:\", perdidos)\n",
        "\n",
        "jugar()\n"
      ],
      "metadata": {
        "colab": {
          "base_uri": "https://localhost:8080/"
        },
        "id": "ZFjDXL7wttoW",
        "outputId": "0c145707-4324-48af-fafc-45f51cea8955"
      },
      "execution_count": null,
      "outputs": [
        {
          "output_type": "stream",
          "name": "stdout",
          "text": [
            "EL NÚMERO 8 SE ENCUENTRA EN EL ÍNDICE ?\n",
            "Intento 1\n",
            "Ingresa el índice: 3\n",
            "Incorrecto. Tienes 2 intentos restantes.\n",
            "Intento 2\n",
            "Ingresa el índice: 4\n",
            "Incorrecto. Tienes 1 intentos restantes.\n",
            "Intento 3\n",
            "Ingresa el índice: 5\n",
            "PERDISTE. El número 8 se encontraba en el índice 1\n",
            "¿Deseas jugar de nuevo? (s/n)\n",
            "n\n",
            "Cantidad de juegos ganados: 0\n",
            "Cantidad de juegos perdidos: 0\n"
          ]
        }
      ]
    },
    {
      "cell_type": "markdown",
      "source": [
        "Version B"
      ],
      "metadata": {
        "id": "iZuKmq_dveuX"
      }
    },
    {
      "cell_type": "code",
      "source": [
        "import random\n",
        "\n",
        "def generar_lista():\n",
        "    lista = random.sample(range(1, 11), 10)\n",
        "    return lista\n",
        "\n",
        "def jugar():\n",
        "    ganados = 0\n",
        "    perdidos = 0\n",
        "\n",
        "    while True:\n",
        "        lista = generar_lista()\n",
        "        numero_generado = random.choice(lista)\n",
        "        intentos = 3\n",
        "\n",
        "        print(\"EL NÚMERO\", numero_generado, \"SE ENCUENTRA EN EL ÍNDICE ?\")\n",
        "\n",
        "        while intentos > 0:\n",
        "            print(\"Intento\", 4 - intentos)\n",
        "            indice_usuario = int(input(\"Ingresa el índice: \"))\n",
        "\n",
        "            if indice_usuario < 0 or indice_usuario >= len(lista):\n",
        "                print(\"Índice inválido. Intenta nuevamente.\")\n",
        "                continue\n",
        "\n",
        "            if lista[indice_usuario] == numero_generado:\n",
        "                print(\"¡GANASTE!\")\n",
        "                ganados += 1\n",
        "                break\n",
        "            else:\n",
        "                intentos -= 1\n",
        "                if intentos > 0:\n",
        "                    print(\"Incorrecto. Tienes\", intentos, \"intentos restantes.\")\n",
        "\n",
        "        if intentos == 0:\n",
        "            print(\"PERDISTE. El número\", numero_generado, \"se encontraba en el índice\", lista.index(numero_generado))\n",
        "\n",
        "        print(\"¿Deseas jugar de nuevo? (s/n)\")\n",
        "        respuesta = input()\n",
        "\n",
        "        if respuesta.lower() != \"s\":\n",
        "            break\n",
        "\n",
        "    print(\"Cantidad de juegos ganados:\", ganados)\n",
        "    print(\"Cantidad de juegos perdidos:\", perdidos)\n",
        "\n",
        "jugar()\n"
      ],
      "metadata": {
        "colab": {
          "base_uri": "https://localhost:8080/"
        },
        "id": "BxwEADxnvKK1",
        "outputId": "bbc2edbb-4151-4bcd-a73b-5cd2dbea3971"
      },
      "execution_count": null,
      "outputs": [
        {
          "output_type": "stream",
          "name": "stdout",
          "text": [
            "EL NÚMERO 9 SE ENCUENTRA EN EL ÍNDICE ?\n",
            "Intento 1\n",
            "Ingresa el índice: 1\n",
            "Incorrecto. Tienes 2 intentos restantes.\n",
            "Intento 2\n",
            "Ingresa el índice: 2\n",
            "Incorrecto. Tienes 1 intentos restantes.\n",
            "Intento 3\n",
            "Ingresa el índice: 3\n",
            "PERDISTE. El número 9 se encontraba en el índice 9\n",
            "¿Deseas jugar de nuevo? (s/n)\n",
            "n\n",
            "Cantidad de juegos ganados: 0\n",
            "Cantidad de juegos perdidos: 0\n"
          ]
        }
      ]
    },
    {
      "cell_type": "markdown",
      "source": [
        "Version C"
      ],
      "metadata": {
        "id": "d05pvpWuvhj1"
      }
    },
    {
      "cell_type": "code",
      "source": [
        "import random\n",
        "\n",
        "def generar_lista():\n",
        "    lista = random.sample(range(1, 11), 10)\n",
        "    return lista\n",
        "\n",
        "def jugar():\n",
        "    ganados = 0\n",
        "    perdidos = 0\n",
        "\n",
        "    while True:\n",
        "        lista = generar_lista()\n",
        "        numero_generado = random.choice(lista)\n",
        "        intentos = 3\n",
        "\n",
        "        print(\"EL NÚMERO\", numero_generado, \"SE ENCUENTRA EN EL ÍNDICE ?\")\n",
        "\n",
        "        while intentos > 0:\n",
        "            print(\"Intento\", 4 - intentos)\n",
        "            indice_usuario = int(input(\"Ingresa el índice: \"))\n",
        "\n",
        "            if indice_usuario < 0 or indice_usuario >= len(lista):\n",
        "                print(\"Índice inválido. Intenta nuevamente.\")\n",
        "                continue\n",
        "\n",
        "            if lista[indice_usuario] == numero_generado:\n",
        "                print(\"¡GANASTE!\")\n",
        "                ganados += 1\n",
        "                break\n",
        "            else:\n",
        "                intentos -= 1\n",
        "                if intentos > 0:\n",
        "                    print(\"Incorrecto. Tienes\", intentos, \"intentos restantes.\")\n",
        "\n",
        "        if intentos == 0:\n",
        "            print(\"PERDISTE. El número\", numero_generado, \"se encontraba en el índice\", lista.index(numero_generado))\n",
        "\n",
        "        print(\"¿Deseas jugar de nuevo? (s/n)\")\n",
        "        respuesta = input()\n",
        "\n",
        "        if respuesta.lower() != \"s\":\n",
        "            break\n",
        "\n",
        "    print(\"Cantidad de juegos ganados:\", ganados)\n",
        "    print(\"Cantidad de juegos perdidos:\", perdidos)\n",
        "\n",
        "jugar()\n"
      ],
      "metadata": {
        "colab": {
          "base_uri": "https://localhost:8080/"
        },
        "id": "87HzMOHqvNro",
        "outputId": "d24ab59c-14c2-4478-df79-fee8338a29d6"
      },
      "execution_count": null,
      "outputs": [
        {
          "output_type": "stream",
          "name": "stdout",
          "text": [
            "EL NÚMERO 9 SE ENCUENTRA EN EL ÍNDICE ?\n",
            "Intento 1\n",
            "Ingresa el índice: 1\n",
            "¡GANASTE!\n",
            "¿Deseas jugar de nuevo? (s/n)\n",
            "n\n",
            "Cantidad de juegos ganados: 1\n",
            "Cantidad de juegos perdidos: 0\n"
          ]
        }
      ]
    }
  ]
}